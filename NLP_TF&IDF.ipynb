{
 "cells": [
  {
   "cell_type": "code",
   "execution_count": 1,
   "metadata": {},
   "outputs": [
    {
     "data": {
      "text/plain": [
       "[['today', 'is', 'sunny', 'day'],\n",
       " ['today', 'is', 'windy', 'day'],\n",
       " ['want', 'to', 'play', 'all', 'day'],\n",
       " ['went', 'to', 'play', 'all', 'day', 'yesterday'],\n",
       " ['yesterday', 'was', 'rainy', 'day']]"
      ]
     },
     "execution_count": 1,
     "metadata": {},
     "output_type": "execute_result"
    }
   ],
   "source": [
    "# coding: utf-8\n",
    "import math\n",
    "import pandas as pd\n",
    "from sklearn.preprocessing import normalize\n",
    "\n",
    "\n",
    "# Documents\n",
    "doc_0 = 'Today is a sunny day'\n",
    "doc_1 = 'Today is a windy day'\n",
    "doc_2 = 'I want to play all day'\n",
    "doc_3 = 'I went to play all day yesterday'\n",
    "doc_4 = 'Yesterday was a rainy day'\n",
    "\n",
    "doc_all = [doc_0, doc_1, doc_2, doc_3, doc_4]\n",
    "doc_all = [[word.lower() for word in doc.split() if len(word) >= 2] for doc in doc_all] #轉換成小寫\n",
    "doc_all"
   ]
  },
  {
   "cell_type": "code",
   "execution_count": 2,
   "metadata": {},
   "outputs": [
    {
     "data": {
      "text/plain": [
       "{'today': [0.25, 0.25, 0, 0, 0],\n",
       " 'is': [0.25, 0.25, 0, 0, 0],\n",
       " 'sunny': [0.25, 0, 0, 0, 0],\n",
       " 'day': [0.25, 0.25, 0.2, 0.16666666666666666, 0.25],\n",
       " 'windy': [0, 0.25, 0, 0, 0],\n",
       " 'want': [0, 0, 0.2, 0, 0],\n",
       " 'to': [0, 0, 0.2, 0.16666666666666666, 0],\n",
       " 'play': [0, 0, 0.2, 0.16666666666666666, 0],\n",
       " 'all': [0, 0, 0.2, 0.16666666666666666, 0],\n",
       " 'went': [0, 0, 0, 0.16666666666666666, 0],\n",
       " 'yesterday': [0, 0, 0, 0.16666666666666666, 0.25],\n",
       " 'was': [0, 0, 0, 0, 0.25],\n",
       " 'rainy': [0, 0, 0, 0, 0.25]}"
      ]
     },
     "execution_count": 2,
     "metadata": {},
     "output_type": "execute_result"
    }
   ],
   "source": [
    "# TF\n",
    "tf = dict()\n",
    "for n in range(len(doc_all)):\n",
    "    for word in doc_all[n]:\n",
    "        if word not in tf: \n",
    "            tf[word] = [0 for _ in doc_all] # 如果沒有那個詞 設為0\n",
    "        tf[word][n] = sum([1 for term in doc_all[n] if term == word])/len(doc_all[n]) \n",
    "\n",
    "#特定單詞出現在整個文件的次數/該文件中所有單詞的數量\n",
    "tf"
   ]
  },
  {
   "cell_type": "code",
   "execution_count": null,
   "metadata": {},
   "outputs": [],
   "source": []
  },
  {
   "cell_type": "code",
   "execution_count": 3,
   "metadata": {},
   "outputs": [
    {
     "data": {
      "text/plain": [
       "{'today': 0.5440680443502757,\n",
       " 'is': 0.5440680443502757,\n",
       " 'sunny': 0.7781512503836436,\n",
       " 'day': 0.3010299956639812,\n",
       " 'windy': 0.7781512503836436,\n",
       " 'want': 0.7781512503836436,\n",
       " 'to': 0.5440680443502757,\n",
       " 'play': 0.5440680443502757,\n",
       " 'all': 0.5440680443502757,\n",
       " 'went': 0.7781512503836436,\n",
       " 'yesterday': 0.5440680443502757,\n",
       " 'was': 0.7781512503836436,\n",
       " 'rainy': 0.7781512503836436}"
      ]
     },
     "execution_count": 3,
     "metadata": {},
     "output_type": "execute_result"
    }
   ],
   "source": [
    "# IDF\n",
    "total_D = len(doc_all) #所有文件的數目\n",
    "idf = dict()\n",
    "for doc in doc_all:\n",
    "    for word in doc:\n",
    "        if word not in idf:\n",
    "            word_idf = math.log10(total_D/sum([1 for doc in doc_all if word in doc])+1) \n",
    "#Log (所有文件的數目/包含這個單詞的文件數目) 記得加1\n",
    "            idf[word] = word_idf\n",
    "idf"
   ]
  },
  {
   "cell_type": "code",
   "execution_count": null,
   "metadata": {},
   "outputs": [],
   "source": []
  },
  {
   "cell_type": "code",
   "execution_count": 6,
   "metadata": {},
   "outputs": [
    {
     "data": {
      "text/plain": [
       "[[0.0, 0.0, 0.10881360887005515, 0.09067800739171261, 0.0],\n",
       " [0.0752574989159953,\n",
       "  0.0752574989159953,\n",
       "  0.06020599913279624,\n",
       "  0.050171665943996864,\n",
       "  0.0752574989159953],\n",
       " [0.13601701108756892, 0.13601701108756892, 0.0, 0.0, 0.0],\n",
       " [0.0, 0.0, 0.10881360887005515, 0.09067800739171261, 0.0],\n",
       " [0.0, 0.0, 0.0, 0.0, 0.1945378125959109],\n",
       " [0.1945378125959109, 0.0, 0.0, 0.0, 0.0],\n",
       " [0.0, 0.0, 0.10881360887005515, 0.09067800739171261, 0.0],\n",
       " [0.13601701108756892, 0.13601701108756892, 0.0, 0.0, 0.0],\n",
       " [0.0, 0.0, 0.15563025007672873, 0.0, 0.0],\n",
       " [0.0, 0.0, 0.0, 0.0, 0.1945378125959109],\n",
       " [0.0, 0.0, 0.0, 0.1296918750639406, 0.0],\n",
       " [0.0, 0.1945378125959109, 0.0, 0.0, 0.0],\n",
       " [0.0, 0.0, 0.0, 0.09067800739171261, 0.13601701108756892]]"
      ]
     },
     "execution_count": 6,
     "metadata": {},
     "output_type": "execute_result"
    }
   ],
   "source": [
    "# TF-IDF\n",
    "sorted_word = sorted(set([word for word in tf])) \n",
    "tfidf = list()\n",
    "for word in sorted_word:\n",
    "    value = tf[word]\n",
    "    value = [v*idf[word] for v in value] #TF * IDF\n",
    "    tfidf.append(value)\n",
    "tfidf"
   ]
  },
  {
   "cell_type": "code",
   "execution_count": 7,
   "metadata": {},
   "outputs": [
    {
     "name": "stdout",
     "output_type": "stream",
     "text": [
      "                  0         1         2         3         4\n",
      "all        0.000000  0.000000  0.768221  0.640184  0.000000\n",
      "day        0.494804  0.494804  0.395843  0.329870  0.494804\n",
      "is         0.707107  0.707107  0.000000  0.000000  0.000000\n",
      "play       0.000000  0.000000  0.768221  0.640184  0.000000\n",
      "rainy      0.000000  0.000000  0.000000  0.000000  1.000000\n",
      "sunny      1.000000  0.000000  0.000000  0.000000  0.000000\n",
      "to         0.000000  0.000000  0.768221  0.640184  0.000000\n",
      "today      0.707107  0.707107  0.000000  0.000000  0.000000\n",
      "want       0.000000  0.000000  1.000000  0.000000  0.000000\n",
      "was        0.000000  0.000000  0.000000  0.000000  1.000000\n",
      "went       0.000000  0.000000  0.000000  1.000000  0.000000\n",
      "windy      0.000000  1.000000  0.000000  0.000000  0.000000\n",
      "yesterday  0.000000  0.000000  0.000000  0.554700  0.832050\n"
     ]
    }
   ],
   "source": [
    "#TF-IDF\n",
    "tfidf = normalize(tfidf, norm='l2') #標準化\n",
    "results = dict()\n",
    "for n in range(len(sorted_word)):\n",
    "    results[sorted_word[n]] = tfidf[n]\n",
    "\n",
    "print(pd.DataFrame(results).transpose())"
   ]
  },
  {
   "cell_type": "code",
   "execution_count": null,
   "metadata": {},
   "outputs": [],
   "source": []
  },
  {
   "cell_type": "code",
   "execution_count": 10,
   "metadata": {},
   "outputs": [
    {
     "name": "stdout",
     "output_type": "stream",
     "text": [
      "Scikit-Learn:\n",
      "                  0         1         2         3         4\n",
      "all        0.000000  0.000000  0.452441  0.412213  0.000000\n",
      "day        0.299642  0.299642  0.267219  0.243460  0.280882\n",
      "is         0.507338  0.507338  0.000000  0.000000  0.000000\n",
      "play       0.000000  0.000000  0.452441  0.412213  0.000000\n",
      "rainy      0.000000  0.000000  0.000000  0.000000  0.589463\n",
      "sunny      0.628833  0.000000  0.000000  0.000000  0.000000\n",
      "to         0.000000  0.000000  0.452441  0.412213  0.000000\n",
      "today      0.507338  0.507338  0.000000  0.000000  0.000000\n",
      "want       0.000000  0.000000  0.560789  0.000000  0.000000\n",
      "was        0.000000  0.000000  0.000000  0.000000  0.589463\n",
      "went       0.000000  0.000000  0.000000  0.510928  0.000000\n",
      "windy      0.000000  0.628833  0.000000  0.000000  0.000000\n",
      "yesterday  0.000000  0.000000  0.000000  0.412213  0.475575\n"
     ]
    }
   ],
   "source": [
    "# 使用Scikit-Learn計算TF-IDF：\n",
    "import pandas as pd\n",
    "from sklearn.feature_extraction.text import TfidfVectorizer\n",
    "# TF-IDF\n",
    "# Documents\n",
    "doc_0 = 'Today is a sunny day'\n",
    "doc_1 = 'Today is a windy day'\n",
    "doc_2 = 'I want to play all day'\n",
    "doc_3 = 'I went to play all day yesterday'\n",
    "doc_4 = 'Yesterday was a rainy day'\n",
    "\n",
    "doc_all = [doc_0, doc_1, doc_2, doc_3, doc_4]\n",
    "# max_df=0.5 單詞如果在50%以上的文件出現就不考慮\n",
    "# min_df=5 單詞如果出現次數少於5次就不考慮, min_df=0.1 單詞如果在10%以下的文件中出現就不考慮\n",
    "vectorizer = TfidfVectorizer(smooth_idf = True)\n",
    "tfidf = vectorizer.fit_transform(doc_all)\n",
    "result = pd.DataFrame(tfidf.toarray(), columns=vectorizer.get_feature_names())\n",
    "print('Scikit-Learn:')\n",
    "print(pd.DataFrame(result).transpose())"
   ]
  },
  {
   "cell_type": "code",
   "execution_count": null,
   "metadata": {},
   "outputs": [],
   "source": []
  },
  {
   "cell_type": "markdown",
   "metadata": {},
   "source": [
    "# 測試"
   ]
  },
  {
   "cell_type": "markdown",
   "metadata": {},
   "source": [
    "## Q:請將中文文本分詞之後，計算出 TF-IDF"
   ]
  },
  {
   "cell_type": "code",
   "execution_count": 12,
   "metadata": {},
   "outputs": [
    {
     "data": {
      "text/plain": [
       "['我是一個想要轉職的軟體工程師！',\n",
       " '我閱讀了機器學習，',\n",
       " '我閱讀了深度學習，',\n",
       " '我閱讀了自然語言處理，',\n",
       " '我閱讀了所有軟體方面的書籍，',\n",
       " '我已經不是原本的我了！']"
      ]
     },
     "execution_count": 12,
     "metadata": {},
     "output_type": "execute_result"
    }
   ],
   "source": [
    "import jieba\n",
    "from sklearn.feature_extraction.text import CountVectorizer\n",
    "from sklearn.feature_extraction.text import TfidfTransformer \n",
    "\n",
    "text = \"\"\"我是一個想要轉職的軟體工程師！\n",
    "我閱讀了機器學習，\n",
    "我閱讀了深度學習，\n",
    "我閱讀了自然語言處理，\n",
    "我閱讀了所有軟體方面的書籍，\n",
    "我已經不是原本的我了！\"\"\"\n",
    "sentences = text.split()\n",
    "sentences"
   ]
  },
  {
   "cell_type": "code",
   "execution_count": null,
   "metadata": {},
   "outputs": [],
   "source": []
  },
  {
   "cell_type": "code",
   "execution_count": null,
   "metadata": {},
   "outputs": [],
   "source": [
    "# jieba.cut生成的是一个生成器\n",
    "# jieba.lcut 直接生成的就是一个list"
   ]
  },
  {
   "cell_type": "code",
   "execution_count": 14,
   "metadata": {},
   "outputs": [
    {
     "name": "stderr",
     "output_type": "stream",
     "text": [
      "Building prefix dict from the default dictionary ...\n",
      "Loading model from cache C:\\Users\\vvvcc\\AppData\\Local\\Temp\\jieba.cache\n",
      "Loading model cost 0.448 seconds.\n",
      "Prefix dict has been built successfully.\n"
     ]
    },
    {
     "name": "stdout",
     "output_type": "stream",
     "text": [
      "['我 是 一個 想要 轉職 的 軟體 工程 師 ！', '我 閱讀 了 機器 學習 ，', '我 閱讀 了 深度 學習 ，', '我 閱讀 了 自然 語言 處理 ，', '我 閱讀 了 所有 軟體 方面 的 書籍 ，', '我 已經 不是 原本 的 我 了 ！']\n"
     ]
    }
   ],
   "source": [
    "sent_words = [jieba.lcut(sent_) for sent_ in sentences]\n",
    "document = [\" \".join(sent_) for sent_ in sent_words]\n",
    "print(document)"
   ]
  },
  {
   "cell_type": "code",
   "execution_count": 16,
   "metadata": {},
   "outputs": [
    {
     "name": "stdout",
     "output_type": "stream",
     "text": [
      "Bag of words:\n",
      "['一個', '不是', '了', '原本', '學習', '工程', '已經', '師', '想要', '我', '所有', '方面', '是', '書籍', '機器', '深度', '的', '自然', '處理', '語言', '軟體', '轉職', '閱讀']\n"
     ]
    }
   ],
   "source": [
    "# token_pattern這個參數使用正則表達式來分詞，其默認參數為r\"(?u)\\b\\w\\w+\\b\"，其中的兩個\\w決定了其匹配長度至少為2的單詞，但是在短文本中任何一個字都可能十分重要，比如“去／到”等，所以要想讓CountVectorizer也支持單字符的詞，需要加上參數token_pattern='\\\\b\\\\w+\\\\b'\n",
    "# max_df=0.5 單詞如果在50%以上的文件出現就不考慮\n",
    "# min_df=5 單詞如果出現次數少於5次就不考慮, min_df=0.1 單詞如果在10%以下的文件中出現就不考慮\n",
    "\n",
    "vectoerizer = CountVectorizer(min_df=1, max_df=1.0, token_pattern='\\\\b\\\\w+\\\\b') #初始化一個向量化工具\n",
    "vectoerizer.fit(document)\n",
    "bag_of_words = vectoerizer.get_feature_names() #取得詞的名稱\n",
    "print(\"Bag of words:\")\n",
    "print(bag_of_words)"
   ]
  },
  {
   "cell_type": "code",
   "execution_count": 17,
   "metadata": {},
   "outputs": [
    {
     "name": "stdout",
     "output_type": "stream",
     "text": [
      "詞彙數量:\n",
      "23\n"
     ]
    }
   ],
   "source": [
    "print(\"詞彙數量:\")\n",
    "print(len(bag_of_words))"
   ]
  },
  {
   "cell_type": "code",
   "execution_count": 18,
   "metadata": {},
   "outputs": [
    {
     "name": "stdout",
     "output_type": "stream",
     "text": [
      "詞袋模型的結果:\n",
      "[[1 0 0 0 0 1 0 1 1 1 0 0 1 0 0 0 1 0 0 0 1 1 0]\n",
      " [0 0 1 0 1 0 0 0 0 1 0 0 0 0 1 0 0 0 0 0 0 0 1]\n",
      " [0 0 1 0 1 0 0 0 0 1 0 0 0 0 0 1 0 0 0 0 0 0 1]\n",
      " [0 0 1 0 0 0 0 0 0 1 0 0 0 0 0 0 0 1 1 1 0 0 1]\n",
      " [0 0 1 0 0 0 0 0 0 1 1 1 0 1 0 0 1 0 0 0 1 0 1]\n",
      " [0 1 1 1 0 0 1 0 0 2 0 0 0 0 0 0 1 0 0 0 0 0 0]]\n"
     ]
    }
   ],
   "source": [
    "X = vectoerizer.transform(document) #將文本轉換成詞袋向量\n",
    "print(\"詞袋模型的結果:\")\n",
    "print(X.toarray())"
   ]
  },
  {
   "cell_type": "code",
   "execution_count": 19,
   "metadata": {},
   "outputs": [
    {
     "name": "stdout",
     "output_type": "stream",
     "text": [
      "'自然'的index是 : 17\n"
     ]
    }
   ],
   "source": [
    "print(\"'自然'的index是 : {}\".format(vectoerizer.vocabulary_.get('自然')))"
   ]
  },
  {
   "cell_type": "code",
   "execution_count": 20,
   "metadata": {},
   "outputs": [
    {
     "name": "stdout",
     "output_type": "stream",
     "text": [
      "字典索引對照表:\n",
      "{'我': 9, '是': 12, '一個': 0, '想要': 8, '轉職': 21, '的': 16, '軟體': 20, '工程': 5, '師': 7, '閱讀': 22, '了': 2, '機器': 14, '學習': 4, '深度': 15, '自然': 17, '語言': 19, '處理': 18, '所有': 10, '方面': 11, '書籍': 13, '已經': 6, '不是': 1, '原本': 3}\n"
     ]
    }
   ],
   "source": [
    "print(\"字典索引對照表:\")\n",
    "print(vectoerizer.vocabulary_)"
   ]
  },
  {
   "cell_type": "code",
   "execution_count": null,
   "metadata": {},
   "outputs": [],
   "source": []
  },
  {
   "cell_type": "code",
   "execution_count": 21,
   "metadata": {},
   "outputs": [
    {
     "name": "stdout",
     "output_type": "stream",
     "text": [
      "每個不同詞的TFIDF:\n",
      "一個\t2.252762968495368\n",
      "不是\t2.252762968495368\n",
      "了\t1.1541506798272583\n",
      "原本\t2.252762968495368\n",
      "學習\t1.8472978603872037\n",
      "工程\t2.252762968495368\n",
      "已經\t2.252762968495368\n",
      "師\t2.252762968495368\n",
      "想要\t2.252762968495368\n",
      "我\t1.0\n",
      "所有\t2.252762968495368\n",
      "方面\t2.252762968495368\n",
      "是\t2.252762968495368\n",
      "書籍\t2.252762968495368\n",
      "機器\t2.252762968495368\n",
      "深度\t2.252762968495368\n",
      "的\t1.5596157879354227\n",
      "自然\t2.252762968495368\n",
      "處理\t2.252762968495368\n",
      "語言\t2.252762968495368\n",
      "軟體\t1.8472978603872037\n",
      "轉職\t2.252762968495368\n",
      "閱讀\t1.336472236621213\n"
     ]
    }
   ],
   "source": [
    "tfidf_transformer = TfidfTransformer() #初始化一個Tfidf向量化工具\n",
    "tfidf_transformer.fit(X.toarray())  #根據文本的詞袋向量計算 TF-IDF\n",
    "print(\"每個不同詞的TFIDF:\")\n",
    "for idx, word in enumerate(vectoerizer.get_feature_names()):\n",
    "    print(\"{}\\t{}\".format(word, tfidf_transformer.idf_[idx]))"
   ]
  },
  {
   "cell_type": "code",
   "execution_count": 22,
   "metadata": {},
   "outputs": [
    {
     "name": "stdout",
     "output_type": "stream",
     "text": [
      "將詞袋向量轉成TF-IDF向量:\n",
      "[[0.36888651 0.         0.         0.         0.         0.36888651\n",
      "  0.         0.36888651 0.36888651 0.16374848 0.         0.\n",
      "  0.36888651 0.         0.         0.         0.25538471 0.\n",
      "  0.         0.         0.30249222 0.36888651 0.        ]\n",
      " [0.         0.         0.32507196 0.         0.52030012 0.\n",
      "  0.         0.         0.         0.2816547  0.         0.\n",
      "  0.         0.         0.63450127 0.         0.         0.\n",
      "  0.         0.         0.         0.         0.37642368]\n",
      " [0.         0.         0.32507196 0.         0.52030012 0.\n",
      "  0.         0.         0.         0.2816547  0.         0.\n",
      "  0.         0.         0.         0.63450127 0.         0.\n",
      "  0.         0.         0.         0.         0.37642368]\n",
      " [0.         0.         0.26242191 0.         0.         0.\n",
      "  0.         0.         0.         0.22737231 0.         0.\n",
      "  0.         0.         0.         0.         0.         0.51221593\n",
      "  0.51221593 0.51221593 0.         0.         0.30387678]\n",
      " [0.         0.         0.22996728 0.         0.         0.\n",
      "  0.         0.         0.         0.19925239 0.44886841 0.44886841\n",
      "  0.         0.44886841 0.         0.         0.31075717 0.\n",
      "  0.         0.         0.36807851 0.         0.26629529]\n",
      " [0.         0.46984297 0.24071311 0.46984297 0.         0.\n",
      "  0.46984297 0.         0.         0.41712597 0.         0.\n",
      "  0.         0.         0.         0.         0.32527813 0.\n",
      "  0.         0.         0.         0.         0.        ]]\n"
     ]
    }
   ],
   "source": [
    "print(\"將詞袋向量轉成TF-IDF向量:\")\n",
    "tfidf = tfidf_transformer.transform(X)\n",
    "print(tfidf.toarray())"
   ]
  },
  {
   "cell_type": "code",
   "execution_count": null,
   "metadata": {},
   "outputs": [],
   "source": []
  },
  {
   "cell_type": "code",
   "execution_count": null,
   "metadata": {},
   "outputs": [],
   "source": []
  }
 ],
 "metadata": {
  "kernelspec": {
   "display_name": "Python 3",
   "language": "python",
   "name": "python3"
  },
  "language_info": {
   "codemirror_mode": {
    "name": "ipython",
    "version": 3
   },
   "file_extension": ".py",
   "mimetype": "text/x-python",
   "name": "python",
   "nbconvert_exporter": "python",
   "pygments_lexer": "ipython3",
   "version": "3.7.4"
  }
 },
 "nbformat": 4,
 "nbformat_minor": 2
}
